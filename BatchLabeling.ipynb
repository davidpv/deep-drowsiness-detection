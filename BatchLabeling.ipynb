{
 "cells": [
  {
   "cell_type": "code",
   "execution_count": null,
   "metadata": {
    "collapsed": true
   },
   "outputs": [],
   "source": [
    "import os"
   ]
  },
  {
   "cell_type": "code",
   "execution_count": null,
   "outputs": [],
   "source": [
    "images_path = './data/ddd/images'\n",
    "labels_path = './data/ddd/labels'\n",
    "awake_label_content = '15 0.502203 0.502203 0.995595 0.995595'\n",
    "drowsy_label_content = '16 0.502203 0.502203 0.995595 0.995595'\n",
    "files = os.listdir(images_path)\n",
    "awake_files =  [file for file in files if file.startswith('awake')]\n",
    "drowsy_files =  [file for file in files if file.startswith('drowsy')]"
   ],
   "metadata": {
    "collapsed": false
   }
  },
  {
   "cell_type": "code",
   "execution_count": null,
   "outputs": [],
   "source": [
    "# process awake files\n",
    "for file in awake_files:\n",
    "    filename,_=os.path.splitext(file)\n",
    "    new_file = os.path.join(labels_path, filename + '.txt')\n",
    "    with open(new_file, 'w') as f:\n",
    "        f.write(awake_label_content)\n",
    "        print(new_file + ' saved!!')\n"
   ],
   "metadata": {
    "collapsed": false
   }
  },
  {
   "cell_type": "code",
   "execution_count": null,
   "outputs": [],
   "source": [
    "for file in drowsy_files:\n",
    "    filename,_=os.path.splitext(file)\n",
    "    new_file = os.path.join(labels_path, filename + '.txt')\n",
    "    with open(new_file, 'w') as f:\n",
    "        f.write(drowsy_label_content)\n",
    "        print(new_file + ' saved!!')"
   ],
   "metadata": {
    "collapsed": false
   }
  },
  {
   "cell_type": "code",
   "execution_count": null,
   "outputs": [],
   "source": [],
   "metadata": {
    "collapsed": false
   }
  }
 ],
 "metadata": {
  "kernelspec": {
   "display_name": "Python 3",
   "language": "python",
   "name": "python3"
  },
  "language_info": {
   "codemirror_mode": {
    "name": "ipython",
    "version": 2
   },
   "file_extension": ".py",
   "mimetype": "text/x-python",
   "name": "python",
   "nbconvert_exporter": "python",
   "pygments_lexer": "ipython2",
   "version": "2.7.6"
  }
 },
 "nbformat": 4,
 "nbformat_minor": 0
}
